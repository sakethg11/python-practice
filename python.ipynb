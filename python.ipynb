{
  "cells": [
    {
      "cell_type": "markdown",
      "metadata": {
        "id": "view-in-github",
        "colab_type": "text"
      },
      "source": [
        "<a href=\"https://colab.research.google.com/github/sakethg11/python-practice/blob/main/python.ipynb\" target=\"_parent\"><img src=\"https://colab.research.google.com/assets/colab-badge.svg\" alt=\"Open In Colab\"/></a>"
      ]
    },
    {
      "cell_type": "markdown",
      "id": "011e5991",
      "metadata": {
        "id": "011e5991"
      },
      "source": [
        "# datatypes in python"
      ]
    },
    {
      "cell_type": "code",
      "execution_count": null,
      "id": "c3bca191",
      "metadata": {
        "id": "c3bca191",
        "outputId": "4f905b89-988d-455c-c383-576f7a757351"
      },
      "outputs": [
        {
          "name": "stdout",
          "output_type": "stream",
          "text": [
            "40\n",
            "<class 'int'>\n"
          ]
        }
      ],
      "source": [
        "a=10\n",
        "b=30\n",
        "c=a+b\n",
        "print(c)\n",
        "print(type(b))"
      ]
    },
    {
      "cell_type": "markdown",
      "id": "800e6734",
      "metadata": {
        "id": "800e6734"
      },
      "source": [
        "# converting int to string,float,booleyan,complex"
      ]
    },
    {
      "cell_type": "code",
      "execution_count": null,
      "id": "54a9d412",
      "metadata": {
        "id": "54a9d412",
        "outputId": "873a642f-df7d-4612-d193-211cf109c072"
      },
      "outputs": [
        {
          "name": "stdout",
          "output_type": "stream",
          "text": [
            "10\n",
            "<class 'int'>\n",
            "10\n",
            "<class 'str'>\n",
            "10.0\n",
            "<class 'float'>\n",
            "True\n",
            "<class 'bool'>\n",
            "(10+0j)\n",
            "<class 'complex'>\n"
          ]
        }
      ],
      "source": [
        "a=10\n",
        "print(a)\n",
        "print(type(a))\n",
        "b=str(a)\n",
        "print(b)\n",
        "print(type(b))\n",
        "c=float(a)\n",
        "print(c)\n",
        "print(type(c))\n",
        "d=bool(a)\n",
        "print(d)\n",
        "print(type(d))\n",
        "e=complex(a)\n",
        "print(e)\n",
        "print(type(e))\n"
      ]
    },
    {
      "cell_type": "markdown",
      "id": "86bb9352",
      "metadata": {
        "id": "86bb9352"
      },
      "source": [
        "# converting string into int,float,booleyan,complex"
      ]
    },
    {
      "cell_type": "code",
      "execution_count": null,
      "id": "f6fca32c",
      "metadata": {
        "id": "f6fca32c",
        "outputId": "e5ce4a5b-a1ed-43b9-d93b-f0285f26f368"
      },
      "outputs": [
        {
          "name": "stdout",
          "output_type": "stream",
          "text": [
            "<class 'str'>\n",
            "10\n",
            "10\n",
            "<class 'int'>\n",
            "ten\n",
            "<class 'str'>\n",
            "10.0\n",
            "<class 'float'>\n",
            "True\n",
            "<class 'bool'>\n",
            "(10+0j)\n",
            "<class 'complex'>\n"
          ]
        }
      ],
      "source": [
        "a=\"10\"\n",
        "print(type(a))\n",
        "print(a)\n",
        "b=int(a)\n",
        "print(b)\n",
        "print(type(b))\n",
        "c=\"ten\"\n",
        "print(c)\n",
        "print(type(c))\n",
        "#cant convert alpahabets into integers instead of alphabets give digits 0-9\n",
        "d=float(a)\n",
        "print(d)\n",
        "print(type(d))\n",
        "e=bool(a)\n",
        "print(e)\n",
        "print(type(e))\n",
        "f=complex(a)\n",
        "print(f)\n",
        "print(type(f))"
      ]
    },
    {
      "cell_type": "markdown",
      "id": "67c9b7d9",
      "metadata": {
        "id": "67c9b7d9"
      },
      "source": [
        "# convert float to int,string,booleyan,complex"
      ]
    },
    {
      "cell_type": "code",
      "execution_count": null,
      "id": "2255e2bb",
      "metadata": {
        "id": "2255e2bb",
        "outputId": "bea0e3c5-8d8e-4ef8-cf25-a56e759ecfcf"
      },
      "outputs": [
        {
          "name": "stdout",
          "output_type": "stream",
          "text": [
            "<class 'float'>\n",
            "10.0\n",
            "10\n",
            "<class 'int'>\n",
            "10.0\n",
            "<class 'str'>\n",
            "True\n",
            "<class 'bool'>\n",
            "(10+0j)\n",
            "<class 'complex'>\n"
          ]
        }
      ],
      "source": [
        "a=10.0\n",
        "print(type(a))\n",
        "print(a)\n",
        "b=int(a)\n",
        "print(b)\n",
        "print(type(b))\n",
        "d=str(a)\n",
        "print(d)\n",
        "print(type(d))\n",
        "e=bool(a)\n",
        "print(e)\n",
        "print(type(e))\n",
        "f=complex(a)\n",
        "print(f)\n",
        "print(type(f))"
      ]
    },
    {
      "cell_type": "markdown",
      "id": "cd01ea05",
      "metadata": {
        "id": "cd01ea05"
      },
      "source": [
        "# converting booleyan to int,string,float,complex"
      ]
    },
    {
      "cell_type": "code",
      "execution_count": null,
      "id": "8377c707",
      "metadata": {
        "id": "8377c707",
        "outputId": "24191a03-044a-4489-9f98-19c5d01f65ca"
      },
      "outputs": [
        {
          "name": "stdout",
          "output_type": "stream",
          "text": [
            "True\n",
            "<class 'bool'>\n",
            "<class 'float'>\n",
            "1.0\n",
            "1\n",
            "<class 'int'>\n",
            "True\n",
            "<class 'str'>\n",
            "(1+0j)\n",
            "<class 'complex'>\n"
          ]
        }
      ],
      "source": [
        "a=True\n",
        "print(a)\n",
        "print(type(a))\n",
        "b=float(a)\n",
        "print(type(b))\n",
        "print(b)\n",
        "c=int(a)\n",
        "print(c)\n",
        "print(type(c))\n",
        "d=str(a)\n",
        "print(d)\n",
        "print(type(d))\n",
        "f=complex(a)\n",
        "print(f)\n",
        "print(type(f))"
      ]
    },
    {
      "cell_type": "markdown",
      "id": "8dc820db",
      "metadata": {
        "id": "8dc820db"
      },
      "source": [
        "# converting complex into int,float,string,booleyan"
      ]
    },
    {
      "cell_type": "raw",
      "id": "8f0f743d",
      "metadata": {
        "id": "8f0f743d"
      },
      "source": [
        ""
      ]
    },
    {
      "cell_type": "code",
      "execution_count": null,
      "id": "e1a5dcdd",
      "metadata": {
        "id": "e1a5dcdd",
        "outputId": "c26eb41f-c23c-4c6a-d48a-b2139f0dd5f4"
      },
      "outputs": [
        {
          "name": "stdout",
          "output_type": "stream",
          "text": [
            "(10+0j)\n",
            "<class 'complex'>\n"
          ]
        },
        {
          "ename": "TypeError",
          "evalue": "can't convert complex to int",
          "output_type": "error",
          "traceback": [
            "\u001b[1;31m---------------------------------------------------------------------------\u001b[0m",
            "\u001b[1;31mTypeError\u001b[0m                                 Traceback (most recent call last)",
            "\u001b[1;32m~\\AppData\\Local\\Temp/ipykernel_6752/3389614906.py\u001b[0m in \u001b[0;36m<module>\u001b[1;34m\u001b[0m\n\u001b[0;32m      2\u001b[0m \u001b[0mprint\u001b[0m\u001b[1;33m(\u001b[0m\u001b[0ma\u001b[0m\u001b[1;33m)\u001b[0m\u001b[1;33m\u001b[0m\u001b[1;33m\u001b[0m\u001b[0m\n\u001b[0;32m      3\u001b[0m \u001b[0mprint\u001b[0m\u001b[1;33m(\u001b[0m\u001b[0mtype\u001b[0m\u001b[1;33m(\u001b[0m\u001b[0ma\u001b[0m\u001b[1;33m)\u001b[0m\u001b[1;33m)\u001b[0m\u001b[1;33m\u001b[0m\u001b[1;33m\u001b[0m\u001b[0m\n\u001b[1;32m----> 4\u001b[1;33m \u001b[0mc\u001b[0m\u001b[1;33m=\u001b[0m\u001b[0mint\u001b[0m\u001b[1;33m(\u001b[0m\u001b[0ma\u001b[0m\u001b[1;33m)\u001b[0m\u001b[1;33m\u001b[0m\u001b[1;33m\u001b[0m\u001b[0m\n\u001b[0m\u001b[0;32m      5\u001b[0m \u001b[0mprint\u001b[0m\u001b[1;33m(\u001b[0m\u001b[0mc\u001b[0m\u001b[1;33m)\u001b[0m\u001b[1;33m\u001b[0m\u001b[1;33m\u001b[0m\u001b[0m\n\u001b[0;32m      6\u001b[0m \u001b[0mprint\u001b[0m\u001b[1;33m(\u001b[0m\u001b[0mtype\u001b[0m\u001b[1;33m(\u001b[0m\u001b[0mc\u001b[0m\u001b[1;33m)\u001b[0m\u001b[1;33m)\u001b[0m\u001b[1;33m\u001b[0m\u001b[1;33m\u001b[0m\u001b[0m\n",
            "\u001b[1;31mTypeError\u001b[0m: can't convert complex to int"
          ]
        }
      ],
      "source": [
        "a=(10+0j)\n",
        "print(a)\n",
        "print(type(a))\n",
        "c=int(a)\n",
        "print(c)\n",
        "print(type(c))\n",
        "b=float(a)\n",
        "print(type(b))\n",
        "print(b)\n",
        "d=str(a)\n",
        "print(d)\n",
        "print(type(d))\n",
        "e=bool(a)\n",
        "print(e)\n",
        "print(type(e))"
      ]
    },
    {
      "cell_type": "code",
      "execution_count": null,
      "id": "dfae8add",
      "metadata": {
        "id": "dfae8add"
      },
      "outputs": [],
      "source": [
        ""
      ]
    }
  ],
  "metadata": {
    "kernelspec": {
      "display_name": "Python 3 (ipykernel)",
      "language": "python",
      "name": "python3"
    },
    "language_info": {
      "codemirror_mode": {
        "name": "ipython",
        "version": 3
      },
      "file_extension": ".py",
      "mimetype": "text/x-python",
      "name": "python",
      "nbconvert_exporter": "python",
      "pygments_lexer": "ipython3",
      "version": "3.9.7"
    },
    "colab": {
      "name": " python.ipynb",
      "provenance": [],
      "include_colab_link": true
    }
  },
  "nbformat": 4,
  "nbformat_minor": 5
}